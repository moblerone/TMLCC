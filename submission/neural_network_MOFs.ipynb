{
  "nbformat": 4,
  "nbformat_minor": 0,
  "metadata": {
    "colab": {
      "name": "neural-network-MOFs.ipynb",
      "provenance": [],
      "collapsed_sections": []
    },
    "kernelspec": {
      "display_name": "Python 3",
      "language": "python",
      "name": "python3"
    },
    "language_info": {
      "codemirror_mode": {
        "name": "ipython",
        "version": 3
      },
      "file_extension": ".py",
      "mimetype": "text/x-python",
      "name": "python",
      "nbconvert_exporter": "python",
      "pygments_lexer": "ipython3",
      "version": "3.7.10"
    },
    "deepnote_notebook_id": "1d6c0e40-73ec-4d79-a0ae-a5df93a98852",
    "deepnote": {},
    "deepnote_execution_queue": []
  },
  "cells": [
    {
      "cell_type": "markdown",
      "metadata": {
        "tags": [],
        "cell_id": "00000-bbcdf087-b579-4e38-a913-3414cca25faa",
        "deepnote_cell_type": "markdown",
        "id": "jlz0PaD1C4pF"
      },
      "source": [
        "# Machine Learning CO<sub>2</sub> Working Capacity of MOFs"
      ]
    },
    {
      "cell_type": "markdown",
      "metadata": {
        "tags": [],
        "cell_id": "00002-7da60b53-0058-48e8-8bd0-cd1f67d542dc",
        "deepnote_cell_type": "markdown",
        "id": "Z5p6rJiRC4pR"
      },
      "source": [
        "## 0. Import packages"
      ]
    },
    {
      "cell_type": "code",
      "metadata": {
        "id": "lb_EA4nGHyBc",
        "deepnote_to_be_reexecuted": false,
        "source_hash": "e05d773b",
        "execution_start": 1633172163878,
        "execution_millis": 601,
        "cell_id": "00003-33c47028-73cd-4ce3-94bc-fd342dff0d11",
        "deepnote_cell_type": "code"
      },
      "source": [
        "# import standard scientific libraries\n",
        "import os\n",
        "import math\n",
        "import numpy as np\n",
        "import pandas as pd\n",
        "\n",
        "# import ML models from scikit-learn\n",
        "# from sklearn.linear_model import LinearRegression\n",
        "# from sklearn.kernel_ridge import KernelRidge\n",
        "# from sklearn.gaussian_process import GaussianProcessRegressor\n",
        "# from sklearn import svm\n",
        "# from sklearn.preprocessing import PolynomialFeatures\n",
        "from sklearn.metrics import mean_absolute_error"
      ],
      "execution_count": null,
      "outputs": []
    },
    {
      "cell_type": "markdown",
      "metadata": {
        "tags": [],
        "cell_id": "00004-7dc4d806-2ffb-4066-a4d1-c036cfd476ba",
        "deepnote_cell_type": "markdown",
        "id": "DEqFyN10C4pW"
      },
      "source": [
        "## 1. Import the data"
      ]
    },
    {
      "cell_type": "code",
      "metadata": {
        "deepnote_to_be_reexecuted": false,
        "source_hash": "d33ac5ac",
        "execution_start": 1633172164493,
        "execution_millis": 3,
        "cell_id": "00005-628ecd2d-d699-4073-a2fb-0ebf5bba07e0",
        "deepnote_cell_type": "code",
        "id": "ksDj9yRMC4pX"
      },
      "source": [
        "pd.set_option('max_columns', None)\n",
        "pd.set_option(\"display.precision\", 8)\n",
        "\n",
        "dataset = \"./\""
      ],
      "execution_count": null,
      "outputs": []
    },
    {
      "cell_type": "code",
      "metadata": {
        "id": "UaVIeDWdBsd3",
        "deepnote_to_be_reexecuted": false,
        "source_hash": "fb1ab093",
        "execution_start": 1633172164505,
        "execution_millis": 192,
        "cell_id": "00007-418cbbb1-52e2-459b-8fe1-2da788f32e5e",
        "deepnote_cell_type": "code"
      },
      "source": [
        "train = pd.read_csv(\"train_easy2use.csv\")\n",
        "train.shape"
      ],
      "execution_count": null,
      "outputs": []
    },
    {
      "cell_type": "code",
      "metadata": {
        "id": "nejgwiu3HDYM"
      },
      "source": [
        "train"
      ],
      "execution_count": null,
      "outputs": []
    },
    {
      "cell_type": "code",
      "metadata": {
        "tags": [],
        "cell_id": "00008-d38fe1bf-2d23-409c-b3b2-fd074ed76d45",
        "deepnote_to_be_reexecuted": false,
        "source_hash": "9f7399ba",
        "execution_start": 1633172164701,
        "execution_millis": 106,
        "deepnote_cell_type": "code",
        "id": "l74mAqt3C4pf"
      },
      "source": [
        "train[train[\"surface_area\"] < 0]"
      ],
      "execution_count": null,
      "outputs": []
    },
    {
      "cell_type": "code",
      "metadata": {
        "tags": [],
        "deepnote_to_be_reexecuted": false,
        "source_hash": "e1f0b45",
        "execution_start": 1633172164853,
        "execution_millis": 39,
        "cell_id": "00008-2d18b78e-6686-4c21-9e14-8cf1473a0f1c",
        "deepnote_cell_type": "code",
        "id": "siZaYMfXC4pi"
      },
      "source": [
        "train.head()"
      ],
      "execution_count": null,
      "outputs": []
    },
    {
      "cell_type": "code",
      "metadata": {
        "id": "SomFg6o8ILS8",
        "deepnote_to_be_reexecuted": false,
        "source_hash": "515b194f",
        "execution_start": 1633172164887,
        "execution_millis": 13,
        "cell_id": "00009-f9a53b72-19a0-4737-9529-a93109e512ed",
        "deepnote_cell_type": "code"
      },
      "source": [
        "feat = list(train.columns.values)\n",
        "feat = {k: v for k, v in enumerate(feat)}\n",
        "feat"
      ],
      "execution_count": null,
      "outputs": []
    },
    {
      "cell_type": "markdown",
      "metadata": {
        "cell_id": "00010-7c8837ed-f3d3-49ee-9604-597f6b6f5c1b",
        "deepnote_cell_type": "markdown",
        "id": "C_fUtqabC4pl"
      },
      "source": [
        "## 2. Clean data"
      ]
    },
    {
      "cell_type": "code",
      "metadata": {
        "tags": [],
        "deepnote_to_be_reexecuted": false,
        "source_hash": "3227d3b0",
        "execution_start": 1633172165053,
        "execution_millis": 0,
        "cell_id": "00012-09936c5b-e380-49c7-9fb7-35f8acc9db25",
        "deepnote_cell_type": "code",
        "id": "gwy6bHnvC4po"
      },
      "source": [
        "# find rows having NaN\n",
        "train.isnull().any(axis=0)"
      ],
      "execution_count": null,
      "outputs": []
    },
    {
      "cell_type": "markdown",
      "metadata": {
        "tags": [],
        "cell_id": "00014-2c5ad603-e031-4236-bada-a668fbaecf11",
        "deepnote_cell_type": "markdown",
        "id": "cTBBNSOmC4pr"
      },
      "source": [
        "## 3. Prepare training and test sets"
      ]
    },
    {
      "cell_type": "markdown",
      "metadata": {
        "id": "Vqjek9LIJbmK",
        "cell_id": "00015-7bfbad0c-4c23-4816-9c39-ac8ace70d40d",
        "deepnote_cell_type": "markdown"
      },
      "source": [
        "Prepare input\n",
        "- x_train = train input\n",
        "- y_train = train output\n",
        "- x_test = test input\n",
        "- y_test = test predict"
      ]
    },
    {
      "cell_type": "code",
      "metadata": {
        "id": "7bq8D1sMmFqz",
        "deepnote_to_be_reexecuted": false,
        "source_hash": "4e208ce1",
        "execution_start": 1633172165055,
        "execution_millis": 5,
        "cell_id": "00016-2280873d-325e-49fd-bc6e-b207d3757ba3",
        "deepnote_cell_type": "code"
      },
      "source": [
        "ratio = 0.8\n",
        "train_size = math.floor(train.shape[0]*0.8)\n",
        "test_size = train.shape[0] - train_size\n",
        "print(\"dataset size:\", train.shape[0])\n",
        "print(\"train size:\", train_size)\n",
        "print(\"test size:\", test_size)"
      ],
      "execution_count": null,
      "outputs": []
    },
    {
      "cell_type": "code",
      "metadata": {
        "deepnote_to_be_reexecuted": false,
        "source_hash": "515b194f",
        "execution_start": 1633172165102,
        "execution_millis": 8,
        "cell_id": "00017-106c690e-71d6-4fc1-b909-c133fcec9378",
        "deepnote_cell_type": "code",
        "id": "70q1k9SnC4py"
      },
      "source": [
        "feat = list(train.columns.values)\n",
        "feat = {k: v for k, v in enumerate(feat)}\n",
        "feat"
      ],
      "execution_count": null,
      "outputs": []
    },
    {
      "cell_type": "code",
      "metadata": {
        "id": "4jUHDryFJkZC",
        "deepnote_to_be_reexecuted": false,
        "source_hash": "5a8fc099",
        "execution_start": 1633172165103,
        "execution_millis": 0,
        "cell_id": "00018-2a8e5484-4bb5-42a0-b33e-676597928150",
        "deepnote_cell_type": "code"
      },
      "source": [
        "x_train = train.iloc[0:train_size].drop(columns=['MOFname','CO2_working_capacity']).astype(np.float32)\n",
        "y_train = train['CO2_working_capacity'].iloc[0:train_size].astype(np.float32)\n",
        "x_test = train.iloc[train_size:train_size+test_size].drop(columns=['MOFname','CO2_working_capacity']).astype(np.float32)\n",
        "y_true = train['CO2_working_capacity'].iloc[train_size:train_size+test_size].astype(np.float32)"
      ],
      "execution_count": null,
      "outputs": []
    },
    {
      "cell_type": "code",
      "metadata": {
        "id": "t4A7vJ6VICBQ"
      },
      "source": [
        "y_train"
      ],
      "execution_count": null,
      "outputs": []
    },
    {
      "cell_type": "markdown",
      "metadata": {
        "tags": [],
        "cell_id": "00047-35503a68-cd9d-4149-a7bc-f1829927c7c2",
        "deepnote_cell_type": "markdown",
        "id": "Do-W5UtdC4p3"
      },
      "source": [
        "## 4. Neural network"
      ]
    },
    {
      "cell_type": "markdown",
      "metadata": {
        "tags": [],
        "cell_id": "00048-2fbd60bd-75f6-43b3-bf50-1e4433e6c64e",
        "deepnote_cell_type": "markdown",
        "id": "dU8x36uaC4p6"
      },
      "source": [
        "### 4.1: Feed forward neural network"
      ]
    },
    {
      "cell_type": "code",
      "metadata": {
        "deepnote_to_be_reexecuted": false,
        "source_hash": "65b553d1",
        "execution_start": 1633172165104,
        "execution_millis": 3011,
        "cell_id": "00050-4fb812ef-6a08-4924-b026-5f856dd66f72",
        "deepnote_cell_type": "code",
        "id": "C72guR4iC4p7"
      },
      "source": [
        "import tensorflow as tf\n",
        "from tensorflow.keras.models import Sequential\n",
        "from tensorflow.keras.layers import Dense"
      ],
      "execution_count": null,
      "outputs": []
    },
    {
      "cell_type": "code",
      "metadata": {
        "deepnote_to_be_reexecuted": false,
        "source_hash": "7e31206",
        "execution_start": 1633172168137,
        "execution_millis": 93,
        "cell_id": "00054-c934c388-ce79-4c03-8afc-8016a6da8ca6",
        "deepnote_cell_type": "code",
        "id": "-TN30Z5jC4p8"
      },
      "source": [
        "# 1. creat model using sequential method.\n",
        "model = Sequential()\n",
        "model.add(Dense(16, input_dim=(x_train.shape[1]), activation='relu')) # input\n",
        "model.add(Dense(32, activation='relu')) # hidden 1\n",
        "model.add(Dense(32, activation='relu')) # hidden 2\n",
        "model.add(Dense(1, activation='linear')) # output"
      ],
      "execution_count": null,
      "outputs": []
    },
    {
      "cell_type": "code",
      "metadata": {
        "tags": [],
        "deepnote_to_be_reexecuted": false,
        "source_hash": "8f0dc884",
        "execution_start": 1633172168227,
        "execution_millis": 28793,
        "cell_id": "00055-298ebb7c-2487-4a90-aad6-d0b58978380c",
        "deepnote_cell_type": "code",
        "id": "zxb6PtMxC4p9"
      },
      "source": [
        "# 2. compile model\n",
        "#val_loss = model.compile(loss='mae', optimizer='adam', metrics=['accuracy'])\n",
        "val_loss = model.compile(loss=tf.keras.losses.mae,\n",
        "              optimizer=tf.keras.optimizers.Adam(),\n",
        "              metrics=[\"accuracy\"])\n",
        "# 2. train model\n",
        "history = model.fit(x_train, y_train, epochs=300, batch_size=64)"
      ],
      "execution_count": null,
      "outputs": []
    },
    {
      "cell_type": "markdown",
      "metadata": {
        "tags": [],
        "cell_id": "00056-7a9774e9-8647-4c17-a412-76ca626b3d22",
        "deepnote_cell_type": "markdown",
        "id": "p-BABSKdC4p-"
      },
      "source": [
        "<details>\n",
        "<summary> <font color='green'>Click here for some more information about hyperparaper of neural network</font></summary>\n",
        "We use MAE as a loss function in the neural network but we use LMAE as a metric in our competition. Is this reasonable?\n",
        "</details>"
      ]
    },
    {
      "cell_type": "code",
      "metadata": {
        "deepnote_to_be_reexecuted": false,
        "source_hash": "b6c3c0f2",
        "execution_start": 1633172197019,
        "execution_millis": 191,
        "cell_id": "00057-56552538-c846-4ba5-9b8e-6831a0da844b",
        "deepnote_cell_type": "code",
        "id": "68SXLI_eC4p_"
      },
      "source": [
        "y_pred = model.predict(x_test)\n",
        "y_pred"
      ],
      "execution_count": null,
      "outputs": []
    },
    {
      "cell_type": "code",
      "metadata": {
        "id": "0WK1_JRbpwoC"
      },
      "source": [
        "from matplotlib import pyplot as plt"
      ],
      "execution_count": null,
      "outputs": []
    },
    {
      "cell_type": "code",
      "metadata": {
        "id": "C6WIQU1ypznM"
      },
      "source": [
        "history_dict = history.history\n",
        "loss_values = history_dict['loss']\n",
        "val_loss_values = history_dict['val_loss']\n",
        "plt.plot(loss_values, 'b', label='training loss')\n",
        "plt.plot(val_loss_values, 'r', label='val training loss')"
      ],
      "execution_count": null,
      "outputs": []
    },
    {
      "cell_type": "code",
      "metadata": {
        "deepnote_to_be_reexecuted": false,
        "source_hash": "38332e36",
        "execution_start": 1633172197221,
        "execution_millis": 18,
        "cell_id": "00058-87c37976-0ff7-419f-a2da-de24880d28cb",
        "deepnote_cell_type": "code",
        "id": "CSZyLm5MC4qA"
      },
      "source": [
        "log_mae = np.log10(mean_absolute_error(y_pred, y_true))\n",
        "log_mae"
      ],
      "execution_count": null,
      "outputs": []
    },
    {
      "cell_type": "markdown",
      "metadata": {
        "tags": [],
        "cell_id": "00027-832232b8-cdca-4389-afed-3c0708ea2274",
        "deepnote_cell_type": "markdown",
        "id": "9O4uhDZFC4qD"
      },
      "source": [
        "## 4.2 Customization"
      ]
    },
    {
      "cell_type": "code",
      "metadata": {
        "tags": [],
        "cell_id": "00028-e8cc0a10-ecc6-4e5f-bef7-3b1c2f65437d",
        "deepnote_to_be_reexecuted": false,
        "source_hash": "51ddff1d",
        "execution_start": 1633172197236,
        "execution_millis": 14,
        "deepnote_cell_type": "code",
        "id": "Si0Q8ZwOC4qD"
      },
      "source": [
        "import tensorflow.keras.backend as kb\n",
        "import tensorflow as tf\n",
        "\n",
        "# กำหนด loss ใหม่ด้วย function ที่รับค่า actual value และ prediction value เข้ามา และ return loss LMAE ออกไป\n",
        "def custom_loss(y_actual, y_pred): \n",
        "    custom_loss=tf.experimental.numpy.log10(kb.sum(kb.abs(y_actual - y_pred)) / y_actual.shape[0])\n",
        "    return custom_loss"
      ],
      "execution_count": null,
      "outputs": []
    },
    {
      "cell_type": "code",
      "metadata": {
        "id": "sAKhb8XW0ZbE"
      },
      "source": [
        "model = Sequential()\n",
        "model.add(Dense(12, input_dim=(x_train.shape[1]), activation='relu')) # input\n",
        "model.add(Dense(24, activation='relu')) # hidden 1\n",
        "model.add(Dense(12, activation='relu')) # hidden 2\n",
        "model.add(Dense(1, activation='linear')) # output"
      ],
      "execution_count": null,
      "outputs": []
    },
    {
      "cell_type": "code",
      "metadata": {
        "id": "F6Rp_et-0tWU"
      },
      "source": [
        "model = tf.keras.Sequential(\n",
        "    [\n",
        "        tf.keras.layers.Dense(32, activation=tf.nn.relu, input_shape=[1]),\n",
        "        tf.keras.layers.Dense(32, activation=tf.nn.relu),\n",
        "        tf.keras.layers.Dense(1),\n",
        "    ]\n",
        ")"
      ],
      "execution_count": null,
      "outputs": []
    },
    {
      "cell_type": "code",
      "metadata": {
        "tags": [],
        "cell_id": "00029-a303efc6-8e6b-4b24-9aad-b2a081f81c80",
        "deepnote_to_be_reexecuted": false,
        "source_hash": "ecca56e",
        "execution_start": 1633172197255,
        "execution_millis": 29305,
        "deepnote_cell_type": "code",
        "id": "vJAnNmMaC4qE"
      },
      "source": [
        "model.compile(loss=custom_loss, optimizer='adam', metrics=['accuracy'])\n",
        "model.fit(x_train, y_train, epochs=100, batch_size=64)"
      ],
      "execution_count": null,
      "outputs": []
    },
    {
      "cell_type": "code",
      "metadata": {
        "tags": [],
        "cell_id": "00030-8decf2a7-db0e-46f7-82d5-dd3289e40a5e",
        "deepnote_to_be_reexecuted": false,
        "source_hash": "74c14d0b",
        "execution_start": 1633172226559,
        "execution_millis": 153,
        "deepnote_cell_type": "code",
        "id": "S_bR_UM2C4qF"
      },
      "source": [
        "# predict\n",
        "y_pred = model.predict(x_test)\n",
        "# evaluate error\n",
        "log_mae = np.log10(mean_absolute_error(y_pred, y_true))\n",
        "log_mae"
      ],
      "execution_count": null,
      "outputs": []
    },
    {
      "cell_type": "markdown",
      "metadata": {
        "tags": [],
        "cell_id": "00059-e898d4eb-9416-4eaa-add5-2472a13f0f42",
        "deepnote_cell_type": "markdown",
        "id": "WRL-GCdXC4qF"
      },
      "source": [
        "## 5. Predicting CO<sub>2</sub> WC "
      ]
    },
    {
      "cell_type": "markdown",
      "metadata": {
        "tags": [],
        "cell_id": "00060-1813a205-c726-4f17-9c43-25d5afc9e188",
        "deepnote_cell_type": "markdown",
        "id": "P2YgCbTSC4qG"
      },
      "source": [
        "### Import pretest and proprocessing\n",
        "\n",
        "Today we will prepare a submission file for pretest set for the phase 1 (Development)."
      ]
    },
    {
      "cell_type": "code",
      "metadata": {
        "tags": [],
        "deepnote_to_be_reexecuted": false,
        "source_hash": "40ed25ed",
        "execution_start": 1633172226754,
        "execution_millis": 4,
        "cell_id": "00061-f73edc34-076e-4df4-a56e-025c9642a5f0",
        "deepnote_cell_type": "code",
        "id": "jGZ8275zC4qG"
      },
      "source": [
        "test = pd.read_csv(\"test_easy2use.csv\")\n",
        "test.shape"
      ],
      "execution_count": null,
      "outputs": []
    },
    {
      "cell_type": "code",
      "metadata": {
        "tags": [],
        "deepnote_to_be_reexecuted": false,
        "source_hash": "4506e71d",
        "execution_start": 1633172226798,
        "execution_millis": 108,
        "cell_id": "00063-72ea5c9c-0c1c-4312-9710-7b1f879c7c2a",
        "deepnote_cell_type": "code",
        "id": "SqY4z7O6C4qI"
      },
      "source": [
        "test"
      ],
      "execution_count": null,
      "outputs": []
    },
    {
      "cell_type": "markdown",
      "metadata": {
        "tags": [],
        "cell_id": "00064-c3d9ffcb-9efc-4378-aac6-4bbe16cfd4f5",
        "deepnote_cell_type": "markdown",
        "id": "-9CvYlTYC4qJ"
      },
      "source": [
        "### Let's predict and create a submission file\n",
        "\n",
        "Join the [Codalab competition](https://competitions.codalab.org/competitions/34540) for this course!\n",
        "\n",
        "Create a `submission.csv` with your predictions to join the competition and upload it to the competition site."
      ]
    },
    {
      "cell_type": "code",
      "metadata": {
        "id": "0Bf5freEbMsa"
      },
      "source": [
        ""
      ],
      "execution_count": null,
      "outputs": []
    },
    {
      "cell_type": "code",
      "metadata": {
        "tags": [],
        "deepnote_to_be_reexecuted": false,
        "source_hash": "e4bd47fb",
        "execution_start": 1633172226899,
        "execution_millis": 151,
        "cell_id": "00065-9df320e3-5077-48e9-a233-00b42eced7f1",
        "deepnote_cell_type": "code",
        "id": "uEP9UuDVC4qJ"
      },
      "source": [
        "pred = model.predict(test.drop(columns=['MOFname']))\n",
        "pred"
      ],
      "execution_count": null,
      "outputs": []
    },
    {
      "cell_type": "code",
      "metadata": {
        "id": "Y5-i6nENC4qK"
      },
      "source": [
        "submission = pd.DataFrame({\n",
        "    \"id\": [str(i) for i in range(68614,85613 + 1)],\n",
        "    \"CO2_working_capacity [mL/g]\": pred.T[0]\n",
        "    })\n",
        "\n",
        "submission.to_csv(\"submission.csv\", index=False)"
      ],
      "execution_count": null,
      "outputs": []
    },
    {
      "cell_type": "code",
      "metadata": {
        "id": "nUU_U-HrovD-"
      },
      "source": [
        "submission"
      ],
      "execution_count": null,
      "outputs": []
    }
  ]
}